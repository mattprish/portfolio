{
  "cells": [
    {
      "cell_type": "markdown",
      "metadata": {
        "cell_id": 1,
        "id": "kr9vAeEQlRVG"
      },
      "source": [
        "# Домашнее задание 2. Классификация изображений."
      ]
    },
    {
      "cell_type": "markdown",
      "source": [
        "## Введение"
      ],
      "metadata": {
        "id": "fO4pk_y29x0i"
      }
    },
    {
      "cell_type": "markdown",
      "metadata": {
        "cell_id": 3,
        "id": "BxX49gLclRVJ"
      },
      "source": [
        "В этом задании потребуется обучить классификатор изображений. Будем работать с датасетом, название которого раскрывать не будем. Можете посмотреть самостоятельно на картинки, которые в есть датасете. В нём 200 классов и около 5 тысяч картинок на каждый класс. Классы пронумерованы, как нетрудно догадаться, от 0 до 199. Скачать датасет можно вот [тут](https://yadi.sk/d/BNR41Vu3y0c7qA).\n",
        "\n",
        "Структура датасета простая -- есть директории train/ и val/, в которых лежат обучающие и валидационные данные. В train/ и val/ лежат директориии, соответствующие классам изображений, в которых лежат, собственно, сами изображения.\n",
        "\n",
        "__Задание__. Необходимо выполнить два задания\n",
        "\n",
        "1) Добейтесь accuracy **на валидации не менее 0.44**. В этом задании **запрещено** пользоваться предобученными моделями и ресайзом картинок. 5 баллов\n",
        "\n",
        "2) Добейтесь accuracy **на валидации не менее 0.84**. В этом задании делать ресайз и использовать претрейн можно. 5 баллов\n",
        "\n",
        "Напишите краткий отчёт о проделанных экспериментах. Что сработало и что не сработало? Почему вы решили, сделать так, а не иначе? Обязательно указывайте ссылки на чужой код, если вы его используете. Обязательно ссылайтесь на статьи / блогпосты / вопросы на stackoverflow / видосы от ютуберов-машинлернеров / курсы / подсказки от Дяди Васи и прочие дополнительные материалы, если вы их используете.\n",
        "\n",
        "Ваш код обязательно должен проходить все `assert`'ы ниже.\n",
        "\n",
        "__Использовать внешние данные для обучения строго запрещено в обоих заданиях. Также запрещено обучаться на валидационной выборке__.\n",
        "\n",
        "\n",
        "__Критерии оценки__: Оценка вычисляется по простой формуле: `min(10, 10 * Ваша accuracy / 0.44)` для первого задания и `min(10, 10 * (Ваша accuracy - 0.5) / 0.34)` для второго. Оценка округляется до десятых по арифметическим правилам.\n",
        "\n",
        "\n",
        "__Советы и указания__:\n",
        " - Наверняка вам потребуется много гуглить о классификации и о том, как заставить её работать. Это нормально, все гуглят. Но не забывайте, что нужно быть готовым за скатанный код отвечать :)\n",
        " - Используйте аугментации. Для этого пользуйтесь модулем `torchvision.transforms` или библиотекой [albumentations](https://github.com/albumentations-team/albumentations)\n",
        " - Можно обучать с нуля или файнтюнить (в зависимости от задания) модели из `torchvision`.\n",
        " - Рекомендуем написать вам сначала класс-датасет (или воспользоваться классом `ImageFolder`), который возвращает картинки и соответствующие им классы, а затем функции для трейна по шаблонам ниже. Однако делать это мы не заставляем. Если вам так неудобно, то можете писать код в удобном стиле. Однако учтите, что чрезмерное изменение нижеперечисленных шаблонов увеличит количество вопросов к вашему коду и повысит вероятность вызова на защиту :)\n",
        " - Валидируйте. Трекайте ошибки как можно раньше, чтобы не тратить время впустую.\n",
        " - Чтобы быстро отладить код, пробуйте обучаться на маленькой части датасета (скажем, 5-10 картинок просто чтобы убедиться что код запускается). Когда вы поняли, что смогли всё отдебажить, переходите обучению по всему датасету\n",
        " - На каждый запуск делайте ровно одно изменение в модели/аугментации/оптимайзере, чтобы понять, что и как влияет на результат.\n",
        " - Фиксируйте random seed.\n",
        " - Начинайте с простых моделей и постепенно переходите к сложным. Обучение лёгких моделей экономит много времени.\n",
        " - Ставьте расписание на learning rate. Уменьшайте его, когда лосс на валидации перестаёт убывать.\n",
        " - Советуем использовать GPU. Если у вас его нет, используйте google colab. Если вам неудобно его использовать на постоянной основе, напишите и отладьте весь код локально на CPU, а затем запустите уже написанный ноутбук в колабе. Авторское решение задания достигает требуемой точности в колабе за 15 минут обучения.\n",
        "\n",
        "Good luck & have fun! :)"
      ]
    },
    {
      "cell_type": "markdown",
      "metadata": {
        "id": "KfvyfdZAhp-M"
      },
      "source": [
        "**✨ Внимание ✨**\n",
        "\n",
        "https://lightning.ai/docs/pytorch/stable/"
      ]
    },
    {
      "cell_type": "markdown",
      "source": [
        "## Задание -1 Импорт и подгрузка"
      ],
      "metadata": {
        "id": "NFhc-TY5H-dX"
      }
    },
    {
      "cell_type": "code",
      "source": [
        "# !pip install wandb\n",
        "!pip install pytorch_lightning"
      ],
      "metadata": {
        "colab": {
          "base_uri": "https://localhost:8080/"
        },
        "id": "sM7PavcXHvR4",
        "outputId": "7908669b-e177-4169-c5bb-8f8e9160e64c"
      },
      "execution_count": null,
      "outputs": [
        {
          "output_type": "stream",
          "name": "stdout",
          "text": [
            "Collecting pytorch_lightning\n",
            "  Downloading pytorch_lightning-2.1.2-py3-none-any.whl (776 kB)\n",
            "\u001b[?25l     \u001b[90m━━━━━━━━━━━━━━━━━━━━━━━━━━━━━━━━━━━━━━━━\u001b[0m \u001b[32m0.0/776.9 kB\u001b[0m \u001b[31m?\u001b[0m eta \u001b[36m-:--:--\u001b[0m\r\u001b[2K     \u001b[91m━━━━━\u001b[0m\u001b[91m╸\u001b[0m\u001b[90m━━━━━━━━━━━━━━━━━━━━━━━━━━━━━━━━━━\u001b[0m \u001b[32m112.6/776.9 kB\u001b[0m \u001b[31m3.2 MB/s\u001b[0m eta \u001b[36m0:00:01\u001b[0m\r\u001b[2K     \u001b[90m━━━━━━━━━━━━━━━━━━━━━━━━━━━━━━━━━━━━━━━━\u001b[0m \u001b[32m776.9/776.9 kB\u001b[0m \u001b[31m13.6 MB/s\u001b[0m eta \u001b[36m0:00:00\u001b[0m\n",
            "\u001b[?25hRequirement already satisfied: numpy>=1.17.2 in /usr/local/lib/python3.10/dist-packages (from pytorch_lightning) (1.23.5)\n",
            "Requirement already satisfied: torch>=1.12.0 in /usr/local/lib/python3.10/dist-packages (from pytorch_lightning) (2.1.0+cu118)\n",
            "Requirement already satisfied: tqdm>=4.57.0 in /usr/local/lib/python3.10/dist-packages (from pytorch_lightning) (4.66.1)\n",
            "Requirement already satisfied: PyYAML>=5.4 in /usr/local/lib/python3.10/dist-packages (from pytorch_lightning) (6.0.1)\n",
            "Requirement already satisfied: fsspec[http]>2021.06.0 in /usr/local/lib/python3.10/dist-packages (from pytorch_lightning) (2023.6.0)\n",
            "Collecting torchmetrics>=0.7.0 (from pytorch_lightning)\n",
            "  Downloading torchmetrics-1.2.1-py3-none-any.whl (806 kB)\n",
            "\u001b[2K     \u001b[90m━━━━━━━━━━━━━━━━━━━━━━━━━━━━━━━━━━━━━━━━\u001b[0m \u001b[32m806.1/806.1 kB\u001b[0m \u001b[31m47.2 MB/s\u001b[0m eta \u001b[36m0:00:00\u001b[0m\n",
            "\u001b[?25hRequirement already satisfied: packaging>=20.0 in /usr/local/lib/python3.10/dist-packages (from pytorch_lightning) (23.2)\n",
            "Requirement already satisfied: typing-extensions>=4.0.0 in /usr/local/lib/python3.10/dist-packages (from pytorch_lightning) (4.5.0)\n",
            "Collecting lightning-utilities>=0.8.0 (from pytorch_lightning)\n",
            "  Downloading lightning_utilities-0.10.0-py3-none-any.whl (24 kB)\n",
            "Requirement already satisfied: requests in /usr/local/lib/python3.10/dist-packages (from fsspec[http]>2021.06.0->pytorch_lightning) (2.31.0)\n",
            "Requirement already satisfied: aiohttp!=4.0.0a0,!=4.0.0a1 in /usr/local/lib/python3.10/dist-packages (from fsspec[http]>2021.06.0->pytorch_lightning) (3.9.1)\n",
            "Requirement already satisfied: setuptools in /usr/local/lib/python3.10/dist-packages (from lightning-utilities>=0.8.0->pytorch_lightning) (67.7.2)\n",
            "Requirement already satisfied: filelock in /usr/local/lib/python3.10/dist-packages (from torch>=1.12.0->pytorch_lightning) (3.13.1)\n",
            "Requirement already satisfied: sympy in /usr/local/lib/python3.10/dist-packages (from torch>=1.12.0->pytorch_lightning) (1.12)\n",
            "Requirement already satisfied: networkx in /usr/local/lib/python3.10/dist-packages (from torch>=1.12.0->pytorch_lightning) (3.2.1)\n",
            "Requirement already satisfied: jinja2 in /usr/local/lib/python3.10/dist-packages (from torch>=1.12.0->pytorch_lightning) (3.1.2)\n",
            "Requirement already satisfied: triton==2.1.0 in /usr/local/lib/python3.10/dist-packages (from torch>=1.12.0->pytorch_lightning) (2.1.0)\n",
            "Requirement already satisfied: attrs>=17.3.0 in /usr/local/lib/python3.10/dist-packages (from aiohttp!=4.0.0a0,!=4.0.0a1->fsspec[http]>2021.06.0->pytorch_lightning) (23.1.0)\n",
            "Requirement already satisfied: multidict<7.0,>=4.5 in /usr/local/lib/python3.10/dist-packages (from aiohttp!=4.0.0a0,!=4.0.0a1->fsspec[http]>2021.06.0->pytorch_lightning) (6.0.4)\n",
            "Requirement already satisfied: yarl<2.0,>=1.0 in /usr/local/lib/python3.10/dist-packages (from aiohttp!=4.0.0a0,!=4.0.0a1->fsspec[http]>2021.06.0->pytorch_lightning) (1.9.3)\n",
            "Requirement already satisfied: frozenlist>=1.1.1 in /usr/local/lib/python3.10/dist-packages (from aiohttp!=4.0.0a0,!=4.0.0a1->fsspec[http]>2021.06.0->pytorch_lightning) (1.4.0)\n",
            "Requirement already satisfied: aiosignal>=1.1.2 in /usr/local/lib/python3.10/dist-packages (from aiohttp!=4.0.0a0,!=4.0.0a1->fsspec[http]>2021.06.0->pytorch_lightning) (1.3.1)\n",
            "Requirement already satisfied: async-timeout<5.0,>=4.0 in /usr/local/lib/python3.10/dist-packages (from aiohttp!=4.0.0a0,!=4.0.0a1->fsspec[http]>2021.06.0->pytorch_lightning) (4.0.3)\n",
            "Requirement already satisfied: MarkupSafe>=2.0 in /usr/local/lib/python3.10/dist-packages (from jinja2->torch>=1.12.0->pytorch_lightning) (2.1.3)\n",
            "Requirement already satisfied: charset-normalizer<4,>=2 in /usr/local/lib/python3.10/dist-packages (from requests->fsspec[http]>2021.06.0->pytorch_lightning) (3.3.2)\n",
            "Requirement already satisfied: idna<4,>=2.5 in /usr/local/lib/python3.10/dist-packages (from requests->fsspec[http]>2021.06.0->pytorch_lightning) (3.6)\n",
            "Requirement already satisfied: urllib3<3,>=1.21.1 in /usr/local/lib/python3.10/dist-packages (from requests->fsspec[http]>2021.06.0->pytorch_lightning) (2.0.7)\n",
            "Requirement already satisfied: certifi>=2017.4.17 in /usr/local/lib/python3.10/dist-packages (from requests->fsspec[http]>2021.06.0->pytorch_lightning) (2023.11.17)\n",
            "Requirement already satisfied: mpmath>=0.19 in /usr/local/lib/python3.10/dist-packages (from sympy->torch>=1.12.0->pytorch_lightning) (1.3.0)\n",
            "Installing collected packages: lightning-utilities, torchmetrics, pytorch_lightning\n",
            "Successfully installed lightning-utilities-0.10.0 pytorch_lightning-2.1.2 torchmetrics-1.2.1\n"
          ]
        }
      ]
    },
    {
      "cell_type": "code",
      "execution_count": null,
      "metadata": {
        "cell_id": 4,
        "id": "LKcSNj4tlRVK"
      },
      "outputs": [],
      "source": [
        "import math\n",
        "import os\n",
        "import random\n",
        "import sys\n",
        "\n",
        "import matplotlib.pyplot as plt\n",
        "import numpy as np\n",
        "import pytorch_lightning as pl\n",
        "import torch\n",
        "import torchvision\n",
        "import torchvision.transforms as transforms\n",
        "from PIL import Image\n",
        "from pytorch_lightning.loggers import WandbLogger\n",
        "from torch import nn\n",
        "from torch.nn import functional as F\n",
        "from torch.utils.data import DataLoader\n",
        "from torchmetrics.functional import accuracy\n",
        "from torchvision.datasets import ImageFolder\n",
        "from tqdm import tqdm"
      ]
    },
    {
      "cell_type": "code",
      "source": [
        "import warnings\n",
        "\n",
        "import matplotlib.pyplot as plt\n",
        "import numpy as np\n",
        "import torch\n",
        "import torchvision\n",
        "from IPython.display import clear_output\n",
        "from torch import nn, optim\n",
        "from torchvision import transforms\n",
        "from tqdm.auto import tqdm\n",
        "\n",
        "warnings.filterwarnings(\"ignore\")\n",
        "%matplotlib inline"
      ],
      "metadata": {
        "id": "PTHi8BMtLUby"
      },
      "execution_count": null,
      "outputs": []
    },
    {
      "cell_type": "code",
      "source": [
        "from collections import defaultdict, namedtuple\n",
        "\n",
        "import pytorch_lightning as pl\n",
        "import torchvision\n",
        "import torchvision.transforms as transforms\n",
        "from torch.utils.data import DataLoader\n",
        "\n",
        "from torchmetrics.functional import accuracy"
      ],
      "metadata": {
        "id": "O1GR_NfQOHz4"
      },
      "execution_count": null,
      "outputs": []
    },
    {
      "cell_type": "code",
      "execution_count": null,
      "metadata": {
        "id": "47YPLjDL-Mtv"
      },
      "outputs": [],
      "source": [
        "def seed_everything(seed):\n",
        "    # Фискирует максимум сидов.\n",
        "    # Это понадобится, чтобы сравнение оптимизаторов было корректным\n",
        "    random.seed(seed)\n",
        "    os.environ[\"PYTHONHASHSEED\"] = str(seed)\n",
        "    np.random.seed(seed)\n",
        "    torch.manual_seed(seed)\n",
        "    torch.cuda.manual_seed(seed)\n",
        "    torch.backends.cudnn.deterministic = True\n",
        "\n",
        "\n",
        "seed_everything(123456)"
      ]
    },
    {
      "cell_type": "code",
      "execution_count": null,
      "metadata": {
        "id": "gVKdh063AzhH",
        "colab": {
          "base_uri": "https://localhost:8080/"
        },
        "outputId": "82cfc351-fc60-4a1f-8306-1c5977d09a53"
      },
      "outputs": [
        {
          "output_type": "stream",
          "name": "stdout",
          "text": [
            "--2023-12-10 12:40:11--  https://www.dropbox.com/s/33l8lp62rmvtx40/dataset.zip?dl=1\n",
            "Resolving www.dropbox.com (www.dropbox.com)... 162.125.81.18, 2620:100:6031:18::a27d:5112\n",
            "Connecting to www.dropbox.com (www.dropbox.com)|162.125.81.18|:443... connected.\n",
            "HTTP request sent, awaiting response... 302 Found\n",
            "Location: /s/dl/33l8lp62rmvtx40/dataset.zip [following]\n",
            "--2023-12-10 12:40:12--  https://www.dropbox.com/s/dl/33l8lp62rmvtx40/dataset.zip\n",
            "Reusing existing connection to www.dropbox.com:443.\n",
            "HTTP request sent, awaiting response... 302 Found\n",
            "Location: https://uc650957457f643edf8990d155fa.dl.dropboxusercontent.com/cd/0/get/CJJfNoSsACfvDAZx-qVdfKMg9RESWESVpKyFTGd2Syy7Pau1oWD_PY2_rwo7eaXszOA4dN156Q08SCONDxGSJXXgWSM9EEp9XBKF3g1Sb_A_t2PG2Bf_UUojVr8h0a0o8d_MXdFFXxhd_2GFo2YUm8Po/file?dl=1# [following]\n",
            "--2023-12-10 12:40:12--  https://uc650957457f643edf8990d155fa.dl.dropboxusercontent.com/cd/0/get/CJJfNoSsACfvDAZx-qVdfKMg9RESWESVpKyFTGd2Syy7Pau1oWD_PY2_rwo7eaXszOA4dN156Q08SCONDxGSJXXgWSM9EEp9XBKF3g1Sb_A_t2PG2Bf_UUojVr8h0a0o8d_MXdFFXxhd_2GFo2YUm8Po/file?dl=1\n",
            "Resolving uc650957457f643edf8990d155fa.dl.dropboxusercontent.com (uc650957457f643edf8990d155fa.dl.dropboxusercontent.com)... 162.125.81.15, 2620:100:6031:15::a27d:510f\n",
            "Connecting to uc650957457f643edf8990d155fa.dl.dropboxusercontent.com (uc650957457f643edf8990d155fa.dl.dropboxusercontent.com)|162.125.81.15|:443... connected.\n",
            "HTTP request sent, awaiting response... 200 OK\n",
            "Length: 220318689 (210M) [application/binary]\n",
            "Saving to: ‘dataset.zip’\n",
            "\n",
            "dataset.zip         100%[===================>] 210.11M  12.0MB/s    in 19s     \n",
            "\n",
            "2023-12-10 12:40:31 (11.3 MB/s) - ‘dataset.zip’ saved [220318689/220318689]\n",
            "\n"
          ]
        }
      ],
      "source": [
        "!wget https://www.dropbox.com/s/33l8lp62rmvtx40/dataset.zip?dl=1 -O dataset.zip && unzip -q dataset.zip"
      ]
    },
    {
      "cell_type": "markdown",
      "metadata": {
        "id": "RytEDW0ylRVN"
      },
      "source": [
        "## Задание 0"
      ]
    },
    {
      "cell_type": "markdown",
      "metadata": {
        "id": "2HZECedTvepi"
      },
      "source": [
        "### Что поможет сделать на 10 из 10 (одно задание - 5 баллов)"
      ]
    },
    {
      "cell_type": "markdown",
      "metadata": {
        "id": "dOioHGEiveso"
      },
      "source": [
        "1. Использовать все возможные методы оптимизации и эксперемнтировать с ними.\n",
        "2. Подбор learning rate. Пример из прошлого семинара как это делать: [Как найти lr](https://pytorch-lightning.readthedocs.io/en/1.4.5/advanced/lr_finder.html)\n",
        "\n",
        "```\n",
        "  trainer = pl.Trainer(accelerator=\"gpu\", max_epochs=2, auto_lr_find=True)\n",
        "\n",
        "  trainer.tune(module, train_dataloader, eval_dataloader)\n",
        "\n",
        "  trainer.fit(module, train_dataloader, eval_dataloader))\n",
        "```\n",
        "\n",
        "\n",
        "\n",
        "3. Аугментация данных. [Документация (полезная)](https://pytorch.org/vision/main/transforms.html), а также [библиотека albumentation](https://towardsdatascience.com/getting-started-with-albumentation-winning-deep-learning-image-augmentation-technique-in-pytorch-47aaba0ee3f8)\n",
        "4. Подбор архитектуры модели.\n",
        "5. Можно написать модель руками свою в YourNet, а можно импортировать не предобученную сетку известной архитектуры из модуля torchvision.models. Один из способов как можно сделать:\n",
        "\n",
        "  * `torchvision.models.resnet18(pretrained=False, num_classes=200).to(device)`\n",
        "  * Документация по возможным моделям и как их можно брать: [Документация (полезная)](https://pytorch.org/vision/stable/models.html)\n",
        "6. Правильно нормализовывать данные при создании, пример [тык, но тут и в целом гайд от и до](https://www.pluralsight.com/guides/image-classification-with-pytorch)\n",
        "7. Model Checkpointing. Сохраняйте свой прогресс (модели), чтобы когда что-то пойдет не так вы сможете начать с этого места или просто воспроизвести свои результаты модели, которые обучали.\n",
        " * Пример как можно с wandb тут: [Сохраняем лучшие модели в wandb](https://docs.wandb.ai/guides/integrations/lightning)\n",
        " * По простому можно так: [Сохраняем модели в pytorch дока](https://pytorch.org/tutorials/beginner/saving_loading_models.html)"
      ]
    },
    {
      "cell_type": "markdown",
      "metadata": {
        "id": "WYePsQgNRB-n"
      },
      "source": [
        "### Подготовка данных"
      ]
    },
    {
      "cell_type": "code",
      "source": [
        "device = torch.device(\"cuda\") if torch.cuda.is_available() else torch.device(\"cpu\")\n",
        "device"
      ],
      "metadata": {
        "colab": {
          "base_uri": "https://localhost:8080/"
        },
        "id": "-VvbBYqYSR8W",
        "outputId": "39c57af4-731d-4510-a6b0-6d5a323c93e4"
      },
      "execution_count": null,
      "outputs": [
        {
          "output_type": "execute_result",
          "data": {
            "text/plain": [
              "device(type='cuda')"
            ]
          },
          "metadata": {},
          "execution_count": 7
        }
      ]
    },
    {
      "cell_type": "code",
      "source": [
        "transform_train = torchvision.transforms.Compose(\n",
        "    [\n",
        "\n",
        "        torchvision.transforms.ColorJitter(hue=0.05, saturation=0.05),\n",
        "        torchvision.transforms.RandomHorizontalFlip(),\n",
        "        transforms.RandomHorizontalFlip(0.5),\n",
        "        transforms.ToTensor(),\n",
        "        transforms.Normalize((0.5, 0.5, 0.5), (0.25, 0.25, 0.25))\n",
        "    ]\n",
        ")\n",
        "\n",
        "transform_val = torchvision.transforms.Compose(\n",
        "    [\n",
        "        torchvision.transforms.ToTensor(),\n",
        "        torchvision.transforms.Normalize((0.485, 0.456, 0.406), (0.229, 0.224, 0.225)),\n",
        "    ]\n",
        ")\n",
        "\n",
        "\n",
        "train_dataset = ImageFolder('/content/dataset/dataset/train', transform=transform_train)\n",
        "val_dataset = ImageFolder('/content/dataset/dataset/val', transform=transform_val)\n",
        "\n",
        "train_dataloader = DataLoader(train_dataset, batch_size=64, shuffle=True)\n",
        "val_dataloader = DataLoader(val_dataset, batch_size=64, shuffle=False)\n",
        "\n",
        "train_dataset[0][0]"
      ],
      "metadata": {
        "colab": {
          "base_uri": "https://localhost:8080/"
        },
        "id": "6MWXCbU3IUtc",
        "outputId": "a7324181-015f-4164-e64d-d379e37471fb"
      },
      "execution_count": null,
      "outputs": [
        {
          "output_type": "execute_result",
          "data": {
            "text/plain": [
              "tensor([[[-0.1333, -0.1176, -0.1020,  ..., -0.9020, -0.9961, -1.0745],\n",
              "         [-0.1176, -0.1176, -0.1020,  ..., -0.9490, -1.0275, -1.1059],\n",
              "         [-0.1020, -0.1020, -0.0863,  ..., -1.0118, -1.0745, -1.1529],\n",
              "         ...,\n",
              "         [ 0.4941,  0.7294,  0.3529,  ...,  0.0549,  0.0549,  0.0392],\n",
              "         [ 0.5255,  0.9490,  1.3098,  ...,  0.0392,  0.1020,  0.1176],\n",
              "         [ 1.1843,  0.7294,  1.4510,  ..., -0.0078,  0.1176,  0.1647]],\n",
              "\n",
              "        [[-0.3059, -0.2902, -0.2745,  ..., -0.6824, -0.7765, -0.8549],\n",
              "         [-0.2902, -0.2902, -0.2745,  ..., -0.7294, -0.8078, -0.8863],\n",
              "         [-0.2745, -0.2745, -0.2588,  ..., -0.7922, -0.8549, -0.9333],\n",
              "         ...,\n",
              "         [-1.6392, -1.3725, -1.6863,  ...,  0.0078, -0.0392, -0.0549],\n",
              "         [-1.9059, -1.3569, -0.8549,  ..., -0.0078,  0.0392,  0.0549],\n",
              "         [-1.3412, -1.7176, -0.7608,  ..., -0.0392,  0.0549,  0.1020]],\n",
              "\n",
              "        [[-0.5255, -0.5098, -0.4941,  ..., -1.2941, -1.3882, -1.4667],\n",
              "         [-0.5098, -0.5098, -0.4941,  ..., -1.3412, -1.4196, -1.4980],\n",
              "         [-0.4941, -0.4941, -0.4784,  ..., -1.4039, -1.4667, -1.5451],\n",
              "         ...,\n",
              "         [-1.0902, -0.7765, -0.9647,  ..., -0.4314, -0.4471, -0.4627],\n",
              "         [-1.5608, -0.9176, -0.2431,  ..., -0.4941, -0.4471, -0.4314],\n",
              "         [-1.1529, -1.3725, -0.1961,  ..., -0.5725, -0.4627, -0.4157]]])"
            ]
          },
          "metadata": {},
          "execution_count": 8
        }
      ]
    },
    {
      "cell_type": "code",
      "execution_count": null,
      "metadata": {
        "cell_id": 6,
        "id": "mrg4Yj0VlRVP",
        "colab": {
          "base_uri": "https://localhost:8080/"
        },
        "outputId": "d3fb1392-71b5-474e-c0c7-19a905415664"
      },
      "outputs": [
        {
          "output_type": "stream",
          "name": "stdout",
          "text": [
            "tests passed\n"
          ]
        }
      ],
      "source": [
        "# Just very simple sanity checks\n",
        "assert isinstance(train_dataset[0], tuple) # зачем-то лежит в кортеже\n",
        "assert len(train_dataset[0]) == 2\n",
        "assert isinstance(train_dataset[1][1], int)\n",
        "print(\"tests passed\")"
      ]
    },
    {
      "cell_type": "markdown",
      "metadata": {
        "id": "EOuM0EEYj7Ml"
      },
      "source": [
        "### Посмотрим на картиночки"
      ]
    },
    {
      "cell_type": "code",
      "execution_count": null,
      "metadata": {
        "id": "DeuB0YC3LYRm",
        "colab": {
          "base_uri": "https://localhost:8080/"
        },
        "outputId": "07079270-3051-4f7b-bc16-fd72ee6ca5bf"
      },
      "outputs": [
        {
          "output_type": "stream",
          "name": "stderr",
          "text": [
            "WARNING:matplotlib.image:Clipping input data to the valid range for imshow with RGB data ([0..1] for floats or [0..255] for integers).\n"
          ]
        },
        {
          "output_type": "display_data",
          "data": {
            "text/plain": [
              "<Figure size 640x480 with 1 Axes>"
            ],
            "image/png": "[encoded data removed]"
          },
          "metadata": {}
        },
        {
          "output_type": "stream",
          "name": "stderr",
          "text": [
            "WARNING:matplotlib.image:Clipping input data to the valid range for imshow with RGB data ([0..1] for floats or [0..255] for integers).\n"
          ]
        },
        {
          "output_type": "display_data",
          "data": {
            "text/plain": [
              "<Figure size 640x480 with 1 Axes>"
            ],
            "image/png": "[encoded data removed]"
          },
          "metadata": {}
        }
      ],
      "source": [
        "for batch in val_dataloader:\n",
        "    images, class_nums = batch\n",
        "    plt.imshow(images[5].permute(1, 2, 0)) # сначала размеры, потом количество каналов\n",
        "    plt.show()\n",
        "    plt.imshow(images[19].permute(1, 2, 0))\n",
        "    plt.show()\n",
        "    break"
      ]
    },
    {
      "cell_type": "markdown",
      "metadata": {
        "id": "LCwKB-3nKm1-"
      },
      "source": [
        "## Задание 1: бейзлайн с семинара\n"
      ]
    },
    {
      "cell_type": "markdown",
      "source": [
        "\n",
        "5 баллов\n",
        "Добейтесь accuracy на валидации не менее 0.44. В этом задании запрещено пользоваться предобученными моделями и ресайзом картинок.\n",
        "\n",
        "\n",
        "Для того чтобы выбить скор (считается ниже) на 2.5/5 балла (то есть половину за задание) достаточно соблюдать пару простых жизненных правил:\n",
        "1. Аугментация (без нее сложно очень будет)\n",
        "2. Оптимайзеры можно (и нужно) использовать друг с другом. Однако когда что-то проверяете, то не меняйте несколько параметров сразу - собьете логику экспериментов\n",
        "3. Не используйте полносвязные модели или самые первые сверточные, используйте более современные архитектуры (что на лекциях встречались)\n",
        "4. Посмотреть все ноутбуки прошедших семинаров и слепить из них что-то общее. Семинарских тетрадок хватит сверх"
      ],
      "metadata": {
        "id": "R5T7y68c9XyA"
      }
    },
    {
      "cell_type": "code",
      "source": [
        "from torchvision.models import resnet50\n",
        "from pytorch_lightning import Trainer\n",
        "model = resnet50(pretrained = False)"
      ],
      "metadata": {
        "id": "RuTrWM2k9BEc"
      },
      "execution_count": null,
      "outputs": []
    },
    {
      "cell_type": "code",
      "source": [
        "# class WalLeNet(torch.nn.Module):\n",
        "\n",
        "#     def __init__(self):\n",
        "#         super().__init__()\n",
        "#         self.model = resnet50(pretrained=False)\n",
        "#         # self.fc = nn.Identity()\n",
        "#         self.model.fc = nn.Linear(self.model.fc.in_features, 200)\n",
        "#         # self.optimizer = torch.optim.Adam(self.classificator.parameters())\n",
        "#         self.optimizer = torch.optim.Adam(self.model.parameters())\n",
        "#         self.loss_func = torch.nn.CrossEntropyLoss()\n",
        "#         self.targets = torch.Tensor()\n",
        "#         self.preds = torch.Tensor()\n",
        "\n",
        "#     def _forward(self, x):\n",
        "#         return self.model(x)\n",
        "\n",
        "#     def forward(self, images, target=None):\n",
        "#         output = self._forward(images)\n",
        "#         if target is not None:\n",
        "#             loss = self.loss_func(output, target)\n",
        "\n",
        "#             self.targets = torch.cat((self.targets, target.cpu()), 0)\n",
        "#             pred = torch.argmax(output, dim=-1)\n",
        "#             self.preds = torch.cat((self.preds, pred.cpu()), 0)\n",
        "#             self.accuracy = accuracy(self.preds.long(), self.targets.long(), task=\"multiclass\", num_classes=200)\n",
        "#         return loss if target is not None else output\n",
        "\n",
        "#     def get_accuracy(self, reset=False):\n",
        "#         # return accuracy by all values till now\n",
        "#         if reset:\n",
        "#             self.targets = torch.Tensor()\n",
        "#             self.preds = torch.Tensor()\n",
        "#         return self.accuracy"
      ],
      "metadata": {
        "id": "y1TCvvTK8bv5"
      },
      "execution_count": null,
      "outputs": []
    },
    {
      "cell_type": "code",
      "source": [
        "class WalLeModule(pl.LightningModule):\n",
        "    def __init__(self) -> None:\n",
        "        super().__init__()\n",
        "        self.model = resnet50(pretrained=False)\n",
        "        self.model.fc = nn.Linear(self.model.fc.in_features, 200)\n",
        "        self.optimizer = torch.optim.Adam(self.model.parameters())\n",
        "        self.loss = nn.CrossEntropyLoss()\n",
        "\n",
        "    def forward(self, x) -> torch.Tensor:\n",
        "        return self.model(x)\n",
        "\n",
        "    def configure_optimizers(self):\n",
        "        return self.optimizer\n",
        "\n",
        "    def training_step(self, train_batch, batch_idx) -> torch.Tensor:\n",
        "        images, target = train_batch\n",
        "        preds = self.forward(images)\n",
        "        loss = self.loss(preds, target)\n",
        "        self.log(\"train_loss\", loss, prog_bar=True)\n",
        "        return loss\n",
        "\n",
        "    def validation_step(self, val_batch, batch_idx) -> None:\n",
        "        images, target = val_batch\n",
        "        preds = self.forward(images)\n",
        "        loss = self.loss(preds, target)\n",
        "        acc = accuracy(torch.argmax(preds, dim=-1).long(), target.long(), task='multiclass', num_classes=200)\n",
        "        self.log(\"val_loss\", loss, prog_bar=True)\n",
        "        self.log(\"accuracy\", acc, prog_bar=True)"
      ],
      "metadata": {
        "id": "XVVoDzzK87ar"
      },
      "execution_count": null,
      "outputs": []
    },
    {
      "cell_type": "code",
      "source": [
        "trainer = pl.Trainer(accelerator=\"gpu\", max_epochs=10)\n",
        "module = WalLeModule()\n",
        "trainer.fit(module, train_dataloader, val_dataloader)"
      ],
      "metadata": {
        "colab": {
          "base_uri": "https://localhost:8080/",
          "height": 327,
          "referenced_widgets": [
            "2eafaae0f5d24d27989c7d69e959cc62",
            "49f547bfe8e94fcc99038a0458310f47",
            "89423dd19b4f4eca8c3aa182d1427aa7",
            "a11d40e94835462fb616e32b0f3e145e",
            "45727f06611641ab89e7febc0909b744",
            "66fe17ceb7054474b1bf839667e8bde1",
            "e4ba12995e7a4d33be7e073b56141433",
            "3d388343e8e14442b35fb52af01425b0",
            "510e9c6873da494fb6dd91355e1755f5",
            "8ee5c098097c4eca9e3eb7d0a86655f0",
            "9f6a36d5d4c148498fb6914dcc93cc2e",
            "eacdd97e3a084917841a7b965567efdb",
            "5628e8cc8b7b4082a1ec7331d4e536b0",
            "28f6b583378a4bffb53f1d71b87f01f2",
            "5c058e7a619d4be787c77144e3c7f06f",
            "b3eb67a1dc634015a300c96c3942a2fd",
            "f70205ee6f4848258a5b2cc34c5b4cb2",
            "8351277a02d749feb9ebaf0997fe4022",
            "6e73140e552249c5a6ddc19a070a5bac",
            "2f50347fa9154c3c9881be0e838c15f8",
            "4261055d97ae4c178acabb7b04188726",
            "8058761c61dd46fe85f51b92e65b5a9a"
          ]
        },
        "id": "e3pKb-cBKFBQ",
        "outputId": "4cdf3eed-471f-4af9-93a2-d53d287e00a9"
      },
      "execution_count": null,
      "outputs": [
        {
          "output_type": "stream",
          "name": "stderr",
          "text": [
            "INFO:pytorch_lightning.utilities.rank_zero:GPU available: True (cuda), used: True\n",
            "INFO:pytorch_lightning.utilities.rank_zero:TPU available: False, using: 0 TPU cores\n",
            "INFO:pytorch_lightning.utilities.rank_zero:IPU available: False, using: 0 IPUs\n",
            "INFO:pytorch_lightning.utilities.rank_zero:HPU available: False, using: 0 HPUs\n",
            "WARNING:pytorch_lightning.loggers.tensorboard:Missing logger folder: /content/lightning_logs\n",
            "INFO:pytorch_lightning.accelerators.cuda:LOCAL_RANK: 0 - CUDA_VISIBLE_DEVICES: [0]\n",
            "INFO:pytorch_lightning.callbacks.model_summary:\n",
            "  | Name  | Type             | Params\n",
            "-------------------------------------------\n",
            "0 | model | ResNet           | 23.9 M\n",
            "1 | loss  | CrossEntropyLoss | 0     \n",
            "-------------------------------------------\n",
            "23.9 M    Trainable params\n",
            "0         Non-trainable params\n",
            "23.9 M    Total params\n",
            "95.671    Total estimated model params size (MB)\n"
          ]
        },
        {
          "output_type": "display_data",
          "data": {
            "text/plain": [
              "Sanity Checking: |          | 0/? [00:00<?, ?it/s]"
            ],
            "application/vnd.jupyter.widget-view+json": {
              "version_major": 2,
              "version_minor": 0,
              "model_id": "2eafaae0f5d24d27989c7d69e959cc62"
            }
          },
          "metadata": {}
        },
        {
          "output_type": "display_data",
          "data": {
            "text/plain": [
              "Training: |          | 0/? [00:00<?, ?it/s]"
            ],
            "application/vnd.jupyter.widget-view+json": {
              "version_major": 2,
              "version_minor": 0,
              "model_id": "eacdd97e3a084917841a7b965567efdb"
            }
          },
          "metadata": {}
        }
      ]
    },
    {
      "cell_type": "code",
      "source": [
        "def evaluate_task(model, test_dataloader, device=\"cuda\"):\n",
        "    model = model.to(device)\n",
        "    model.eval()\n",
        "    accurac = 0.0\n",
        "    for images, labels in tqdm(test_dataloader):\n",
        "        images, labels = images.to(device), labels.to(device)\n",
        "        with torch.no_grad():\n",
        "            preds = model.forward(images)\n",
        "            acc = accuracy(torch.argmax(preds, dim=-1).long(), labels.long(), task='multiclass', num_classes=200)\n",
        "            accurac += acc\n",
        "    accurac = accurac / len(test_dataloader)\n",
        "    return accurac"
      ],
      "metadata": {
        "id": "mN-d2Im-sgea"
      },
      "execution_count": null,
      "outputs": []
    },
    {
      "cell_type": "code",
      "source": [
        "accura = evaluate_task(module, val_dataloader)\n",
        "print(f\"Accuracy = {accura:.3f}\")"
      ],
      "metadata": {
        "colab": {
          "base_uri": "https://localhost:8080/",
          "height": 49,
          "referenced_widgets": [
            "5cd655ec9b054009828ce75f318ce763",
            "f43acafbffce459b98dbe3efe2f8cdea",
            "2b707b3cb591457ca5eb71e95c40242d",
            "dc9863eeb60d4befb0f5aa85466b23a4",
            "064d25dbf3f049e080c76b9e2d70bcf0",
            "1e05d6778c3f4a2892d58dcf77c3e46c",
            "86691a147396457cba081e87ff29d2c3",
            "e3cb2d8a06e049fcb18c756a8590ec25",
            "a472c2ea9a654429bf84994595dbd53d",
            "6e008c8fa5ea4d1383a9b529ffe077da",
            "d5098e539dfd4ad48a9a6c8d3bee8e12"
          ]
        },
        "id": "jOh-6QUIsklH",
        "outputId": "7a552cbe-6376-4778-9940-2cc464cb9c1b"
      },
      "execution_count": null,
      "outputs": [
        {
          "output_type": "display_data",
          "data": {
            "text/plain": [
              "  0%|          | 0/157 [00:00<?, ?it/s]"
            ],
            "application/vnd.jupyter.widget-view+json": {
              "version_major": 2,
              "version_minor": 0,
              "model_id": "5cd655ec9b054009828ce75f318ce763"
            }
          },
          "metadata": {}
        }
      ]
    },
    {
      "cell_type": "code",
      "source": [
        "print(f\"Оценка за это задание составит {(10 * accura / 0.44):.2f} баллов\")"
      ],
      "metadata": {
        "id": "Fnu9-Kl-GY4d"
      },
      "execution_count": null,
      "outputs": []
    },
    {
      "cell_type": "markdown",
      "metadata": {
        "id": "cZqSdlQQKukS"
      },
      "source": [
        "## Задание 2\n"
      ]
    },
    {
      "cell_type": "markdown",
      "source": [
        "\n",
        "5 баллов\n",
        "Добейтесь accuracy на валидации не менее 0.84. В этом задании делать ресайз и использовать претрейн можно.\n",
        "\n",
        "Для того чтобы выбить скор (считается ниже) на 2.5/5 балла (то есть половину за задание) достаточно соблюдать пару простых жизненных правил:\n",
        "1. Аугментация (без нее сложно очень будет)\n",
        "2. Оптимайзеры можно (и нужно) использовать друг с другом. Однако когда что-то проверяете, то не меняйте несколько параметров сразу - собьете логику экспериментов\n",
        "3. Не используйте полносвязные модели или самые первые сверточные, используйте более современные архитектуры (что на лекциях встречались или можете пойти дальше).\n",
        "4. Попробуйте сначала посмотреть качество исходной модели без дообучения, сохраните как baseline. Отсюда поймете какие слои нужно дообучать.\n",
        "5. Посмотреть все ноутбуки прошедших семинаров и слепить из них что-то общее. Семинарских тетрадок хватит сверх"
      ],
      "metadata": {
        "id": "H7mMedhwX4bX"
      }
    },
    {
      "cell_type": "code",
      "source": [
        " torch.save(model.state_dict, '1 task')"
      ],
      "metadata": {
        "id": "GVRK8_KWJmf1"
      },
      "execution_count": null,
      "outputs": []
    },
    {
      "cell_type": "code",
      "source": [
        "assert False"
      ],
      "metadata": {
        "id": "GutOHTD-7UpR"
      },
      "execution_count": null,
      "outputs": []
    },
    {
      "cell_type": "markdown",
      "metadata": {
        "id": "zDzXM5rNxNQp"
      },
      "source": [
        "### Супермодель\n",
        "\n",
        "\n"
      ]
    },
    {
      "cell_type": "code",
      "source": [
        "model1 = resnet50(pretrained = True)"
      ],
      "metadata": {
        "id": "hk178iFL7aOh"
      },
      "execution_count": null,
      "outputs": []
    },
    {
      "cell_type": "code",
      "source": [
        "class CoolWalLeNet(pl.LightningModule):\n",
        "    def __init__(self, pretrained: bool = False) -> None:\n",
        "        super().__init__()\n",
        "\n",
        "\n",
        "        self.model = model1\n",
        "        self.model.fc = nn.Identity()\n",
        "        self.model.requires_grad_(False)\n",
        "        self.classifier = nn.Linear(2048, 200)\n",
        "        self.optimizer = torch.optim.Adam(self.classifier.parameters())\n",
        "        self.loss = nn.CrossEntropyLoss()\n",
        "\n",
        "    def forward(self, x) -> torch.Tensor:\n",
        "        with torch.no_grad():\n",
        "            features = self.model(x)\n",
        "        preds = self.classifier(features)\n",
        "        return preds\n",
        "\n",
        "    def configure_optimizers(self):\n",
        "        return self.optimizer\n",
        "\n",
        "    def training_step(self, train_batch, batch_idx) -> torch.Tensor:\n",
        "        images, target = train_batch\n",
        "        preds = self.forward(images)\n",
        "        loss = self.loss(preds, target)\n",
        "        self.log(\"train_loss\", loss, prog_bar=True)\n",
        "        return loss\n",
        "\n",
        "    def validation_step(self, val_batch, batch_idx) -> None:\n",
        "        images, target = val_batch\n",
        "        preds = self.forward(images)\n",
        "        loss = self.loss(preds, target)\n",
        "        acc = accuracy(torch.argmax(preds, dim=-1).long(), target.long(), task = 'MULTICLASS', num_classes = 200)\n",
        "        self.log(\"val_loss\", loss, prog_bar=True)\n",
        "        self.log(\"accuracy\", acc, prog_bar=True)\n",
        "\n"
      ],
      "metadata": {
        "id": "PQvK9S7L7d4-"
      },
      "execution_count": null,
      "outputs": []
    },
    {
      "cell_type": "code",
      "source": [
        "device =  \"cuda\"\n",
        "\n",
        "module = CoolWalLeNet()"
      ],
      "metadata": {
        "id": "UZwsoS3V7gVn"
      },
      "execution_count": null,
      "outputs": []
    },
    {
      "cell_type": "code",
      "source": [
        "trainer = pl.Trainer(accelerator=\"cuda\", max_epochs=10)   # logger=wandb_logger\n",
        "trainer.fit(module, train_dataloader, val_dataloader)"
      ],
      "metadata": {
        "id": "x2dlMwJ5IMlv"
      },
      "execution_count": null,
      "outputs": []
    },
    {
      "cell_type": "markdown",
      "metadata": {
        "id": "u5D2bwOKSHVp"
      },
      "source": [
        "### Валидация результатов задания"
      ]
    },
    {
      "cell_type": "code",
      "source": [
        "model = model1# Подгрузить свою сохраненную модель сюда\n",
        "\n",
        "accura = evaluate_task(model1, val_dataloader)"
      ],
      "metadata": {
        "id": "6gwlJQiM7kJ9"
      },
      "execution_count": null,
      "outputs": []
    },
    {
      "cell_type": "code",
      "source": [
        "\n",
        "print(f\"Оценка за это задание составит {(10 * (accura - 0.5) / 0.34):.2f} баллов\") # F"
      ],
      "metadata": {
        "id": "-BEtVxOkM-t6"
      },
      "execution_count": null,
      "outputs": []
    },
    {
      "cell_type": "markdown",
      "metadata": {
        "cell_id": 15,
        "id": "pT8vfPSolRVb"
      },
      "source": [
        "## Отчёт об экспериментах\n"
      ]
    },
    {
      "cell_type": "markdown",
      "source": [
        "\n",
        "текст писать тут (или ссылочку на wandb/любой трекер экспреиментов) для каждого задания, то есть не обязательно именно тут рисовать графики, если вы используете готовые трекеры/мониторинги ваших моделей."
      ],
      "metadata": {
        "id": "c0RSCn4a9p8K"
      }
    },
    {
      "cell_type": "code",
      "source": [
        "assert False"
      ],
      "metadata": {
        "id": "yRapteCRHJnL"
      },
      "execution_count": null,
      "outputs": []
    },
    {
      "cell_type": "code",
      "execution_count": null,
      "metadata": {
        "id": "YkGZ3kuULB55"
      },
      "outputs": [],
      "source": [
        "# Ошибка GPU - переключился на CPU\n",
        "\n",
        "# Ошибка размерности при переходе от сверток к линейному слою -(64x3136 and 4096x0), заменил на (in_features = 3136, out_features= 1024)\n",
        "\n",
        "# Ошибка с количеством классов для accuracy - везде поменял количество классов с 10 до 200\n",
        "\n",
        "# Ошибка в evaluation: сначала нужно создать loss = CrossEntropy(), и только потом считать loss(a, b)\n",
        "\n",
        "# Ошибка с accuracy: под этим именем были и функция, и массив, из-за чего форвард не работал"
      ]
    },
    {
      "cell_type": "code",
      "source": [
        "# Бейзлайн - 0.1273\n",
        "\n",
        "# Модель:\n",
        "\n",
        "class SimpleNet(torch.nn.Module):\n",
        "    def __init__(self, dropout=0.4):\n",
        "\n",
        "        super().__init__()\n",
        "\n",
        "        self.batch_norm1 = torch.nn.BatchNorm2d(3)\n",
        "        self.relu = torch.nn.ReLU()\n",
        "        self.maxpool = torch.nn.MaxPool2d(kernel_size=2)\n",
        "        self.conv1 = torch.nn.Sequential(\n",
        "            torch.nn.Conv2d(in_channels=3, out_channels=32, kernel_size=3),\n",
        "            self.relu,\n",
        "            self.maxpool\n",
        "        )\n",
        "        self.batch_norm2 = torch.nn.BatchNorm2d(32)\n",
        "        self.conv2 = torch.nn.Sequential(\n",
        "            torch.nn.Conv2d(in_channels=32, out_channels=16, kernel_size=3),\n",
        "            self.relu,\n",
        "            self.maxpool\n",
        "        )\n",
        "\n",
        "        self.linear1 = torch.nn.Linear(in_features = 3136, out_features= 1024)\n",
        "        self.linear2 = torch.nn.Linear(in_features=1024, out_features=512)\n",
        "        self.output = torch.nn.Linear(in_features=512, out_features=200)\n",
        "        self.dropout = torch.nn.Dropout(p=dropout)\n",
        "\n",
        "        # --------------\n",
        "\n",
        "        self.loss_func = torch.nn.CrossEntropyLoss()\n",
        "        self.targets = torch.Tensor()\n",
        "        self.preds = torch.Tensor()\n",
        "\n",
        "    def _forward(self, x):\n",
        "\n",
        "        x = self.batch_norm1(x)\n",
        "        x = self.conv1(x)\n",
        "\n",
        "        x = self.batch_norm2(x)\n",
        "        x = self.conv2(x)\n",
        "\n",
        "        x = x.view(x.size(0), -1)\n",
        "        x = self.relu(self.linear1(x))\n",
        "        x = self.dropout(x)\n",
        "        x = self.relu(self.linear2(x))\n",
        "\n",
        "        return self.output(x)\n",
        "        # --------------\n",
        "\n",
        "    def forward(self, images, target=None):\n",
        "        # images ~ (batch size, num channels, height, width)\n",
        "        # target ~ (batch size)\n",
        "        # output ~ (batch size, num classes)\n",
        "        output = self._forward(images)\n",
        "\n",
        "        # get accuracy score and save it to self.accuracy\n",
        "        if target is not None:\n",
        "            loss = self.loss_func(output, target)\n",
        "\n",
        "            self.targets = torch.cat((self.targets, target.cpu()), 0)\n",
        "            pred = torch.argmax(output, dim=-1)\n",
        "            self.preds = torch.cat((self.preds, pred.cpu()), 0)\n",
        "            self.accuracy = accuracy(self.preds.long(), self.targets.long(), task='multiclass', num_classes=200)\n",
        "\n",
        "        return loss if target is not None else output\n",
        "\n",
        "    def get_accuracy(self, reset=False):\n",
        "        # return accuracy by all values till now\n",
        "        if reset:\n",
        "            self.targets = torch.Tensor()\n",
        "            self.preds = torch.Tensor()\n",
        "        return self.accuracy"
      ],
      "metadata": {
        "id": "0NI6hRxq7qe2"
      },
      "execution_count": null,
      "outputs": []
    },
    {
      "cell_type": "code",
      "source": [
        "# Добавил аугментации"
      ],
      "metadata": {
        "id": "dbpBw3znNIIr"
      },
      "execution_count": null,
      "outputs": []
    },
    {
      "cell_type": "code",
      "source": [
        "# Добавил нормализацию"
      ],
      "metadata": {
        "id": "OXKSvLwHNLtQ"
      },
      "execution_count": null,
      "outputs": []
    },
    {
      "cell_type": "markdown",
      "source": [
        "Буквально сходу выбил хорошее качество резнетом:"
      ],
      "metadata": {
        "id": "BdNzU51Z7FAG"
      }
    },
    {
      "cell_type": "code",
      "source": [
        "model = resnet50(pretrained = False)\n",
        "\n",
        "class WalLeModule(pl.LightningModule):\n",
        "    def __init__(self) -> None:\n",
        "        super().__init__()\n",
        "        self.model = resnet50(pretrained=False)\n",
        "        self.model.fc = nn.Linear(self.model.fc.in_features, 200)\n",
        "        self.optimizer = torch.optim.Adam(self.model.parameters())\n",
        "        self.loss = nn.CrossEntropyLoss()\n",
        "\n",
        "    def forward(self, x) -> torch.Tensor:\n",
        "        return self.model(x)\n",
        "\n",
        "    def configure_optimizers(self):\n",
        "        return self.optimizer\n",
        "\n",
        "    def training_step(self, train_batch, batch_idx) -> torch.Tensor:\n",
        "        images, target = train_batch\n",
        "        preds = self.forward(images)\n",
        "        loss = self.loss(preds, target)\n",
        "        self.log(\"train_loss\", loss, prog_bar=True)\n",
        "        return loss\n",
        "\n",
        "    def validation_step(self, val_batch, batch_idx) -> None:\n",
        "        images, target = val_batch\n",
        "        preds = self.forward(images)\n",
        "        loss = self.loss(preds, target)\n",
        "        acc = accuracy(torch.argmax(preds, dim=-1).long(), target.long(), task='multiclass', num_classes=200)\n",
        "        self.log(\"val_loss\", loss, prog_bar=True)\n",
        "        self.log(\"accuracy\", acc, prog_bar=True)"
      ],
      "metadata": {
        "id": "ZNGMHoH56rMR"
      },
      "execution_count": null,
      "outputs": []
    },
    {
      "cell_type": "code",
      "source": [
        "# я больше страдал не от экспериментов, а от маленьких бесявых ошибок, которые сложно найти,\n",
        "# легко потерять и невозможно забыть((("
      ],
      "metadata": {
        "id": "poiSJ1nJG8un"
      },
      "execution_count": null,
      "outputs": []
    },
    {
      "cell_type": "code",
      "source": [
        "второе задание я зафакапил("
      ],
      "metadata": {
        "id": "DdzFlzsWM3Ht"
      },
      "execution_count": null,
      "outputs": []
    }
  ],
  "metadata": {
    "colab": {
      "provenance": [],
      "collapsed_sections": [
        "2HZECedTvepi",
        "cZqSdlQQKukS"
      ],
      "gpuType": "T4"
    },
    "kernelspec": {
      "display_name": "Python 3",
      "name": "python3"
    },
    "language_info": {
      "codemirror_mode": {
        "name": "ipython",
        "version": 3
      },
      "file_extension": ".py",
      "mimetype": "text/x-python",
      "name": "python",
      "nbconvert_exporter": "python",
      "pygments_lexer": "ipython3",
      "version": "3.8.5"
    },
    "max_cell_id": 35,
    "accelerator": "GPU",
    "widgets": {
      "application/vnd.jupyter.widget-state+json": {
        "2eafaae0f5d24d27989c7d69e959cc62": {
          "model_module": "@jupyter-widgets/controls",
          "model_name": "HBoxModel",
          "model_module_version": "1.5.0",
          "state": {
            "_dom_classes": [],
            "_model_module": "@jupyter-widgets/controls",
            "_model_module_version": "1.5.0",
            "_model_name": "HBoxModel",
            "_view_count": null,
            "_view_module": "@jupyter-widgets/controls",
            "_view_module_version": "1.5.0",
            "_view_name": "HBoxView",
            "box_style": "",
            "children": [
              "IPY_MODEL_49f547bfe8e94fcc99038a0458310f47",
              "IPY_MODEL_89423dd19b4f4eca8c3aa182d1427aa7",
              "IPY_MODEL_a11d40e94835462fb616e32b0f3e145e"
            ],
            "layout": "IPY_MODEL_45727f06611641ab89e7febc0909b744"
          }
        },
        "49f547bfe8e94fcc99038a0458310f47": {
          "model_module": "@jupyter-widgets/controls",
          "model_name": "HTMLModel",
          "model_module_version": "1.5.0",
          "state": {
            "_dom_classes": [],
            "_model_module": "@jupyter-widgets/controls",
            "_model_module_version": "1.5.0",
            "_model_name": "HTMLModel",
            "_view_count": null,
            "_view_module": "@jupyter-widgets/controls",
            "_view_module_version": "1.5.0",
            "_view_name": "HTMLView",
            "description": "",
            "description_tooltip": null,
            "layout": "IPY_MODEL_66fe17ceb7054474b1bf839667e8bde1",
            "placeholder": "​",
            "style": "IPY_MODEL_e4ba12995e7a4d33be7e073b56141433",
            "value": "Sanity Checking DataLoader 0: 100%"
          }
        },
        "89423dd19b4f4eca8c3aa182d1427aa7": {
          "model_module": "@jupyter-widgets/controls",
          "model_name": "FloatProgressModel",
          "model_module_version": "1.5.0",
          "state": {
            "_dom_classes": [],
            "_model_module": "@jupyter-widgets/controls",
            "_model_module_version": "1.5.0",
            "_model_name": "FloatProgressModel",
            "_view_count": null,
            "_view_module": "@jupyter-widgets/controls",
            "_view_module_version": "1.5.0",
            "_view_name": "ProgressView",
            "bar_style": "",
            "description": "",
            "description_tooltip": null,
            "layout": "IPY_MODEL_3d388343e8e14442b35fb52af01425b0",
            "max": 2,
            "min": 0,
            "orientation": "horizontal",
            "style": "IPY_MODEL_510e9c6873da494fb6dd91355e1755f5",
            "value": 2
          }
        },
        "a11d40e94835462fb616e32b0f3e145e": {
          "model_module": "@jupyter-widgets/controls",
          "model_name": "HTMLModel",
          "model_module_version": "1.5.0",
          "state": {
            "_dom_classes": [],
            "_model_module": "@jupyter-widgets/controls",
            "_model_module_version": "1.5.0",
            "_model_name": "HTMLModel",
            "_view_count": null,
            "_view_module": "@jupyter-widgets/controls",
            "_view_module_version": "1.5.0",
            "_view_name": "HTMLView",
            "description": "",
            "description_tooltip": null,
            "layout": "IPY_MODEL_8ee5c098097c4eca9e3eb7d0a86655f0",
            "placeholder": "​",
            "style": "IPY_MODEL_9f6a36d5d4c148498fb6914dcc93cc2e",
            "value": " 2/2 [00:01&lt;00:00,  1.16it/s]"
          }
        },
        "45727f06611641ab89e7febc0909b744": {
          "model_module": "@jupyter-widgets/base",
          "model_name": "LayoutModel",
          "model_module_version": "1.2.0",
          "state": {
            "_model_module": "@jupyter-widgets/base",
            "_model_module_version": "1.2.0",
            "_model_name": "LayoutModel",
            "_view_count": null,
            "_view_module": "@jupyter-widgets/base",
            "_view_module_version": "1.2.0",
            "_view_name": "LayoutView",
            "align_content": null,
            "align_items": null,
            "align_self": null,
            "border": null,
            "bottom": null,
            "display": "inline-flex",
            "flex": null,
            "flex_flow": "row wrap",
            "grid_area": null,
            "grid_auto_columns": null,
            "grid_auto_flow": null,
            "grid_auto_rows": null,
            "grid_column": null,
            "grid_gap": null,
            "grid_row": null,
            "grid_template_areas": null,
            "grid_template_columns": null,
            "grid_template_rows": null,
            "height": null,
            "justify_content": null,
            "justify_items": null,
            "left": null,
            "margin": null,
            "max_height": null,
            "max_width": null,
            "min_height": null,
            "min_width": null,
            "object_fit": null,
            "object_position": null,
            "order": null,
            "overflow": null,
            "overflow_x": null,
            "overflow_y": null,
            "padding": null,
            "right": null,
            "top": null,
            "visibility": "hidden",
            "width": "100%"
          }
        },
        "66fe17ceb7054474b1bf839667e8bde1": {
          "model_module": "@jupyter-widgets/base",
          "model_name": "LayoutModel",
          "model_module_version": "1.2.0",
          "state": {
            "_model_module": "@jupyter-widgets/base",
            "_model_module_version": "1.2.0",
            "_model_name": "LayoutModel",
            "_view_count": null,
            "_view_module": "@jupyter-widgets/base",
            "_view_module_version": "1.2.0",
            "_view_name": "LayoutView",
            "align_content": null,
            "align_items": null,
            "align_self": null,
            "border": null,
            "bottom": null,
            "display": null,
            "flex": null,
            "flex_flow": null,
            "grid_area": null,
            "grid_auto_columns": null,
            "grid_auto_flow": null,
            "grid_auto_rows": null,
            "grid_column": null,
            "grid_gap": null,
            "grid_row": null,
            "grid_template_areas": null,
            "grid_template_columns": null,
            "grid_template_rows": null,
            "height": null,
            "justify_content": null,
            "justify_items": null,
            "left": null,
            "margin": null,
            "max_height": null,
            "max_width": null,
            "min_height": null,
            "min_width": null,
            "object_fit": null,
            "object_position": null,
            "order": null,
            "overflow": null,
            "overflow_x": null,
            "overflow_y": null,
            "padding": null,
            "right": null,
            "top": null,
            "visibility": null,
            "width": null
          }
        },
        "e4ba12995e7a4d33be7e073b56141433": {
          "model_module": "@jupyter-widgets/controls",
          "model_name": "DescriptionStyleModel",
          "model_module_version": "1.5.0",
          "state": {
            "_model_module": "@jupyter-widgets/controls",
            "_model_module_version": "1.5.0",
            "_model_name": "DescriptionStyleModel",
            "_view_count": null,
            "_view_module": "@jupyter-widgets/base",
            "_view_module_version": "1.2.0",
            "_view_name": "StyleView",
            "description_width": ""
          }
        },
        "3d388343e8e14442b35fb52af01425b0": {
          "model_module": "@jupyter-widgets/base",
          "model_name": "LayoutModel",
          "model_module_version": "1.2.0",
          "state": {
            "_model_module": "@jupyter-widgets/base",
            "_model_module_version": "1.2.0",
            "_model_name": "LayoutModel",
            "_view_count": null,
            "_view_module": "@jupyter-widgets/base",
            "_view_module_version": "1.2.0",
            "_view_name": "LayoutView",
            "align_content": null,
            "align_items": null,
            "align_self": null,
            "border": null,
            "bottom": null,
            "display": null,
            "flex": "2",
            "flex_flow": null,
            "grid_area": null,
            "grid_auto_columns": null,
            "grid_auto_flow": null,
            "grid_auto_rows": null,
            "grid_column": null,
            "grid_gap": null,
            "grid_row": null,
            "grid_template_areas": null,
            "grid_template_columns": null,
            "grid_template_rows": null,
            "height": null,
            "justify_content": null,
            "justify_items": null,
            "left": null,
            "margin": null,
            "max_height": null,
            "max_width": null,
            "min_height": null,
            "min_width": null,
            "object_fit": null,
            "object_position": null,
            "order": null,
            "overflow": null,
            "overflow_x": null,
            "overflow_y": null,
            "padding": null,
            "right": null,
            "top": null,
            "visibility": null,
            "width": null
          }
        },
        "510e9c6873da494fb6dd91355e1755f5": {
          "model_module": "@jupyter-widgets/controls",
          "model_name": "ProgressStyleModel",
          "model_module_version": "1.5.0",
          "state": {
            "_model_module": "@jupyter-widgets/controls",
            "_model_module_version": "1.5.0",
            "_model_name": "ProgressStyleModel",
            "_view_count": null,
            "_view_module": "@jupyter-widgets/base",
            "_view_module_version": "1.2.0",
            "_view_name": "StyleView",
            "bar_color": null,
            "description_width": ""
          }
        },
        "8ee5c098097c4eca9e3eb7d0a86655f0": {
          "model_module": "@jupyter-widgets/base",
          "model_name": "LayoutModel",
          "model_module_version": "1.2.0",
          "state": {
            "_model_module": "@jupyter-widgets/base",
            "_model_module_version": "1.2.0",
            "_model_name": "LayoutModel",
            "_view_count": null,
            "_view_module": "@jupyter-widgets/base",
            "_view_module_version": "1.2.0",
            "_view_name": "LayoutView",
            "align_content": null,
            "align_items": null,
            "align_self": null,
            "border": null,
            "bottom": null,
            "display": null,
            "flex": null,
            "flex_flow": null,
            "grid_area": null,
            "grid_auto_columns": null,
            "grid_auto_flow": null,
            "grid_auto_rows": null,
            "grid_column": null,
            "grid_gap": null,
            "grid_row": null,
            "grid_template_areas": null,
            "grid_template_columns": null,
            "grid_template_rows": null,
            "height": null,
            "justify_content": null,
            "justify_items": null,
            "left": null,
            "margin": null,
            "max_height": null,
            "max_width": null,
            "min_height": null,
            "min_width": null,
            "object_fit": null,
            "object_position": null,
            "order": null,
            "overflow": null,
            "overflow_x": null,
            "overflow_y": null,
            "padding": null,
            "right": null,
            "top": null,
            "visibility": null,
            "width": null
          }
        },
        "9f6a36d5d4c148498fb6914dcc93cc2e": {
          "model_module": "@jupyter-widgets/controls",
          "model_name": "DescriptionStyleModel",
          "model_module_version": "1.5.0",
          "state": {
            "_model_module": "@jupyter-widgets/controls",
            "_model_module_version": "1.5.0",
            "_model_name": "DescriptionStyleModel",
            "_view_count": null,
            "_view_module": "@jupyter-widgets/base",
            "_view_module_version": "1.2.0",
            "_view_name": "StyleView",
            "description_width": ""
          }
        },
        "eacdd97e3a084917841a7b965567efdb": {
          "model_module": "@jupyter-widgets/controls",
          "model_name": "HBoxModel",
          "model_module_version": "1.5.0",
          "state": {
            "_dom_classes": [],
            "_model_module": "@jupyter-widgets/controls",
            "_model_module_version": "1.5.0",
            "_model_name": "HBoxModel",
            "_view_count": null,
            "_view_module": "@jupyter-widgets/controls",
            "_view_module_version": "1.5.0",
            "_view_name": "HBoxView",
            "box_style": "",
            "children": [
              "IPY_MODEL_5628e8cc8b7b4082a1ec7331d4e536b0",
              "IPY_MODEL_28f6b583378a4bffb53f1d71b87f01f2",
              "IPY_MODEL_5c058e7a619d4be787c77144e3c7f06f"
            ],
            "layout": "IPY_MODEL_b3eb67a1dc634015a300c96c3942a2fd"
          }
        },
        "5628e8cc8b7b4082a1ec7331d4e536b0": {
          "model_module": "@jupyter-widgets/controls",
          "model_name": "HTMLModel",
          "model_module_version": "1.5.0",
          "state": {
            "_dom_classes": [],
            "_model_module": "@jupyter-widgets/controls",
            "_model_module_version": "1.5.0",
            "_model_name": "HTMLModel",
            "_view_count": null,
            "_view_module": "@jupyter-widgets/controls",
            "_view_module_version": "1.5.0",
            "_view_name": "HTMLView",
            "description": "",
            "description_tooltip": null,
            "layout": "IPY_MODEL_f70205ee6f4848258a5b2cc34c5b4cb2",
            "placeholder": "​",
            "style": "IPY_MODEL_8351277a02d749feb9ebaf0997fe4022",
            "value": "Epoch 0:  35%"
          }
        },
        "28f6b583378a4bffb53f1d71b87f01f2": {
          "model_module": "@jupyter-widgets/controls",
          "model_name": "FloatProgressModel",
          "model_module_version": "1.5.0",
          "state": {
            "_dom_classes": [],
            "_model_module": "@jupyter-widgets/controls",
            "_model_module_version": "1.5.0",
            "_model_name": "FloatProgressModel",
            "_view_count": null,
            "_view_module": "@jupyter-widgets/controls",
            "_view_module_version": "1.5.0",
            "_view_name": "ProgressView",
            "bar_style": "",
            "description": "",
            "description_tooltip": null,
            "layout": "IPY_MODEL_6e73140e552249c5a6ddc19a070a5bac",
            "max": 1563,
            "min": 0,
            "orientation": "horizontal",
            "style": "IPY_MODEL_2f50347fa9154c3c9881be0e838c15f8",
            "value": 540
          }
        },
        "5c058e7a619d4be787c77144e3c7f06f": {
          "model_module": "@jupyter-widgets/controls",
          "model_name": "HTMLModel",
          "model_module_version": "1.5.0",
          "state": {
            "_dom_classes": [],
            "_model_module": "@jupyter-widgets/controls",
            "_model_module_version": "1.5.0",
            "_model_name": "HTMLModel",
            "_view_count": null,
            "_view_module": "@jupyter-widgets/controls",
            "_view_module_version": "1.5.0",
            "_view_name": "HTMLView",
            "description": "",
            "description_tooltip": null,
            "layout": "IPY_MODEL_4261055d97ae4c178acabb7b04188726",
            "placeholder": "​",
            "style": "IPY_MODEL_8058761c61dd46fe85f51b92e65b5a9a",
            "value": " 540/1563 [01:40&lt;03:10,  5.38it/s, v_num=0, train_loss=5.160]"
          }
        },
        "b3eb67a1dc634015a300c96c3942a2fd": {
          "model_module": "@jupyter-widgets/base",
          "model_name": "LayoutModel",
          "model_module_version": "1.2.0",
          "state": {
            "_model_module": "@jupyter-widgets/base",
            "_model_module_version": "1.2.0",
            "_model_name": "LayoutModel",
            "_view_count": null,
            "_view_module": "@jupyter-widgets/base",
            "_view_module_version": "1.2.0",
            "_view_name": "LayoutView",
            "align_content": null,
            "align_items": null,
            "align_self": null,
            "border": null,
            "bottom": null,
            "display": "inline-flex",
            "flex": null,
            "flex_flow": "row wrap",
            "grid_area": null,
            "grid_auto_columns": null,
            "grid_auto_flow": null,
            "grid_auto_rows": null,
            "grid_column": null,
            "grid_gap": null,
            "grid_row": null,
            "grid_template_areas": null,
            "grid_template_columns": null,
            "grid_template_rows": null,
            "height": null,
            "justify_content": null,
            "justify_items": null,
            "left": null,
            "margin": null,
            "max_height": null,
            "max_width": null,
            "min_height": null,
            "min_width": null,
            "object_fit": null,
            "object_position": null,
            "order": null,
            "overflow": null,
            "overflow_x": null,
            "overflow_y": null,
            "padding": null,
            "right": null,
            "top": null,
            "visibility": null,
            "width": "100%"
          }
        },
        "f70205ee6f4848258a5b2cc34c5b4cb2": {
          "model_module": "@jupyter-widgets/base",
          "model_name": "LayoutModel",
          "model_module_version": "1.2.0",
          "state": {
            "_model_module": "@jupyter-widgets/base",
            "_model_module_version": "1.2.0",
            "_model_name": "LayoutModel",
            "_view_count": null,
            "_view_module": "@jupyter-widgets/base",
            "_view_module_version": "1.2.0",
            "_view_name": "LayoutView",
            "align_content": null,
            "align_items": null,
            "align_self": null,
            "border": null,
            "bottom": null,
            "display": null,
            "flex": null,
            "flex_flow": null,
            "grid_area": null,
            "grid_auto_columns": null,
            "grid_auto_flow": null,
            "grid_auto_rows": null,
            "grid_column": null,
            "grid_gap": null,
            "grid_row": null,
            "grid_template_areas": null,
            "grid_template_columns": null,
            "grid_template_rows": null,
            "height": null,
            "justify_content": null,
            "justify_items": null,
            "left": null,
            "margin": null,
            "max_height": null,
            "max_width": null,
            "min_height": null,
            "min_width": null,
            "object_fit": null,
            "object_position": null,
            "order": null,
            "overflow": null,
            "overflow_x": null,
            "overflow_y": null,
            "padding": null,
            "right": null,
            "top": null,
            "visibility": null,
            "width": null
          }
        },
        "8351277a02d749feb9ebaf0997fe4022": {
          "model_module": "@jupyter-widgets/controls",
          "model_name": "DescriptionStyleModel",
          "model_module_version": "1.5.0",
          "state": {
            "_model_module": "@jupyter-widgets/controls",
            "_model_module_version": "1.5.0",
            "_model_name": "DescriptionStyleModel",
            "_view_count": null,
            "_view_module": "@jupyter-widgets/base",
            "_view_module_version": "1.2.0",
            "_view_name": "StyleView",
            "description_width": ""
          }
        },
        "6e73140e552249c5a6ddc19a070a5bac": {
          "model_module": "@jupyter-widgets/base",
          "model_name": "LayoutModel",
          "model_module_version": "1.2.0",
          "state": {
            "_model_module": "@jupyter-widgets/base",
            "_model_module_version": "1.2.0",
            "_model_name": "LayoutModel",
            "_view_count": null,
            "_view_module": "@jupyter-widgets/base",
            "_view_module_version": "1.2.0",
            "_view_name": "LayoutView",
            "align_content": null,
            "align_items": null,
            "align_self": null,
            "border": null,
            "bottom": null,
            "display": null,
            "flex": "2",
            "flex_flow": null,
            "grid_area": null,
            "grid_auto_columns": null,
            "grid_auto_flow": null,
            "grid_auto_rows": null,
            "grid_column": null,
            "grid_gap": null,
            "grid_row": null,
            "grid_template_areas": null,
            "grid_template_columns": null,
            "grid_template_rows": null,
            "height": null,
            "justify_content": null,
            "justify_items": null,
            "left": null,
            "margin": null,
            "max_height": null,
            "max_width": null,
            "min_height": null,
            "min_width": null,
            "object_fit": null,
            "object_position": null,
            "order": null,
            "overflow": null,
            "overflow_x": null,
            "overflow_y": null,
            "padding": null,
            "right": null,
            "top": null,
            "visibility": null,
            "width": null
          }
        },
        "2f50347fa9154c3c9881be0e838c15f8": {
          "model_module": "@jupyter-widgets/controls",
          "model_name": "ProgressStyleModel",
          "model_module_version": "1.5.0",
          "state": {
            "_model_module": "@jupyter-widgets/controls",
            "_model_module_version": "1.5.0",
            "_model_name": "ProgressStyleModel",
            "_view_count": null,
            "_view_module": "@jupyter-widgets/base",
            "_view_module_version": "1.2.0",
            "_view_name": "StyleView",
            "bar_color": null,
            "description_width": ""
          }
        },
        "4261055d97ae4c178acabb7b04188726": {
          "model_module": "@jupyter-widgets/base",
          "model_name": "LayoutModel",
          "model_module_version": "1.2.0",
          "state": {
            "_model_module": "@jupyter-widgets/base",
            "_model_module_version": "1.2.0",
            "_model_name": "LayoutModel",
            "_view_count": null,
            "_view_module": "@jupyter-widgets/base",
            "_view_module_version": "1.2.0",
            "_view_name": "LayoutView",
            "align_content": null,
            "align_items": null,
            "align_self": null,
            "border": null,
            "bottom": null,
            "display": null,
            "flex": null,
            "flex_flow": null,
            "grid_area": null,
            "grid_auto_columns": null,
            "grid_auto_flow": null,
            "grid_auto_rows": null,
            "grid_column": null,
            "grid_gap": null,
            "grid_row": null,
            "grid_template_areas": null,
            "grid_template_columns": null,
            "grid_template_rows": null,
            "height": null,
            "justify_content": null,
            "justify_items": null,
            "left": null,
            "margin": null,
            "max_height": null,
            "max_width": null,
            "min_height": null,
            "min_width": null,
            "object_fit": null,
            "object_position": null,
            "order": null,
            "overflow": null,
            "overflow_x": null,
            "overflow_y": null,
            "padding": null,
            "right": null,
            "top": null,
            "visibility": null,
            "width": null
          }
        },
        "8058761c61dd46fe85f51b92e65b5a9a": {
          "model_module": "@jupyter-widgets/controls",
          "model_name": "DescriptionStyleModel",
          "model_module_version": "1.5.0",
          "state": {
            "_model_module": "@jupyter-widgets/controls",
            "_model_module_version": "1.5.0",
            "_model_name": "DescriptionStyleModel",
            "_view_count": null,
            "_view_module": "@jupyter-widgets/base",
            "_view_module_version": "1.2.0",
            "_view_name": "StyleView",
            "description_width": ""
          }
        },
        "5cd655ec9b054009828ce75f318ce763": {
          "model_module": "@jupyter-widgets/controls",
          "model_name": "HBoxModel",
          "model_module_version": "1.5.0",
          "state": {
            "_dom_classes": [],
            "_model_module": "@jupyter-widgets/controls",
            "_model_module_version": "1.5.0",
            "_model_name": "HBoxModel",
            "_view_count": null,
            "_view_module": "@jupyter-widgets/controls",
            "_view_module_version": "1.5.0",
            "_view_name": "HBoxView",
            "box_style": "",
            "children": [
              "IPY_MODEL_f43acafbffce459b98dbe3efe2f8cdea",
              "IPY_MODEL_2b707b3cb591457ca5eb71e95c40242d",
              "IPY_MODEL_dc9863eeb60d4befb0f5aa85466b23a4"
            ],
            "layout": "IPY_MODEL_064d25dbf3f049e080c76b9e2d70bcf0"
          }
        },
        "f43acafbffce459b98dbe3efe2f8cdea": {
          "model_module": "@jupyter-widgets/controls",
          "model_name": "HTMLModel",
          "model_module_version": "1.5.0",
          "state": {
            "_dom_classes": [],
            "_model_module": "@jupyter-widgets/controls",
            "_model_module_version": "1.5.0",
            "_model_name": "HTMLModel",
            "_view_count": null,
            "_view_module": "@jupyter-widgets/controls",
            "_view_module_version": "1.5.0",
            "_view_name": "HTMLView",
            "description": "",
            "description_tooltip": null,
            "layout": "IPY_MODEL_1e05d6778c3f4a2892d58dcf77c3e46c",
            "placeholder": "​",
            "style": "IPY_MODEL_86691a147396457cba081e87ff29d2c3",
            "value": " 33%"
          }
        },
        "2b707b3cb591457ca5eb71e95c40242d": {
          "model_module": "@jupyter-widgets/controls",
          "model_name": "FloatProgressModel",
          "model_module_version": "1.5.0",
          "state": {
            "_dom_classes": [],
            "_model_module": "@jupyter-widgets/controls",
            "_model_module_version": "1.5.0",
            "_model_name": "FloatProgressModel",
            "_view_count": null,
            "_view_module": "@jupyter-widgets/controls",
            "_view_module_version": "1.5.0",
            "_view_name": "ProgressView",
            "bar_style": "",
            "description": "",
            "description_tooltip": null,
            "layout": "IPY_MODEL_e3cb2d8a06e049fcb18c756a8590ec25",
            "max": 157,
            "min": 0,
            "orientation": "horizontal",
            "style": "IPY_MODEL_a472c2ea9a654429bf84994595dbd53d",
            "value": 52
          }
        },
        "dc9863eeb60d4befb0f5aa85466b23a4": {
          "model_module": "@jupyter-widgets/controls",
          "model_name": "HTMLModel",
          "model_module_version": "1.5.0",
          "state": {
            "_dom_classes": [],
            "_model_module": "@jupyter-widgets/controls",
            "_model_module_version": "1.5.0",
            "_model_name": "HTMLModel",
            "_view_count": null,
            "_view_module": "@jupyter-widgets/controls",
            "_view_module_version": "1.5.0",
            "_view_name": "HTMLView",
            "description": "",
            "description_tooltip": null,
            "layout": "IPY_MODEL_6e008c8fa5ea4d1383a9b529ffe077da",
            "placeholder": "​",
            "style": "IPY_MODEL_d5098e539dfd4ad48a9a6c8d3bee8e12",
            "value": " 52/157 [00:03&lt;00:07, 14.03it/s]"
          }
        },
        "064d25dbf3f049e080c76b9e2d70bcf0": {
          "model_module": "@jupyter-widgets/base",
          "model_name": "LayoutModel",
          "model_module_version": "1.2.0",
          "state": {
            "_model_module": "@jupyter-widgets/base",
            "_model_module_version": "1.2.0",
            "_model_name": "LayoutModel",
            "_view_count": null,
            "_view_module": "@jupyter-widgets/base",
            "_view_module_version": "1.2.0",
            "_view_name": "LayoutView",
            "align_content": null,
            "align_items": null,
            "align_self": null,
            "border": null,
            "bottom": null,
            "display": null,
            "flex": null,
            "flex_flow": null,
            "grid_area": null,
            "grid_auto_columns": null,
            "grid_auto_flow": null,
            "grid_auto_rows": null,
            "grid_column": null,
            "grid_gap": null,
            "grid_row": null,
            "grid_template_areas": null,
            "grid_template_columns": null,
            "grid_template_rows": null,
            "height": null,
            "justify_content": null,
            "justify_items": null,
            "left": null,
            "margin": null,
            "max_height": null,
            "max_width": null,
            "min_height": null,
            "min_width": null,
            "object_fit": null,
            "object_position": null,
            "order": null,
            "overflow": null,
            "overflow_x": null,
            "overflow_y": null,
            "padding": null,
            "right": null,
            "top": null,
            "visibility": null,
            "width": null
          }
        },
        "1e05d6778c3f4a2892d58dcf77c3e46c": {
          "model_module": "@jupyter-widgets/base",
          "model_name": "LayoutModel",
          "model_module_version": "1.2.0",
          "state": {
            "_model_module": "@jupyter-widgets/base",
            "_model_module_version": "1.2.0",
            "_model_name": "LayoutModel",
            "_view_count": null,
            "_view_module": "@jupyter-widgets/base",
            "_view_module_version": "1.2.0",
            "_view_name": "LayoutView",
            "align_content": null,
            "align_items": null,
            "align_self": null,
            "border": null,
            "bottom": null,
            "display": null,
            "flex": null,
            "flex_flow": null,
            "grid_area": null,
            "grid_auto_columns": null,
            "grid_auto_flow": null,
            "grid_auto_rows": null,
            "grid_column": null,
            "grid_gap": null,
            "grid_row": null,
            "grid_template_areas": null,
            "grid_template_columns": null,
            "grid_template_rows": null,
            "height": null,
            "justify_content": null,
            "justify_items": null,
            "left": null,
            "margin": null,
            "max_height": null,
            "max_width": null,
            "min_height": null,
            "min_width": null,
            "object_fit": null,
            "object_position": null,
            "order": null,
            "overflow": null,
            "overflow_x": null,
            "overflow_y": null,
            "padding": null,
            "right": null,
            "top": null,
            "visibility": null,
            "width": null
          }
        },
        "86691a147396457cba081e87ff29d2c3": {
          "model_module": "@jupyter-widgets/controls",
          "model_name": "DescriptionStyleModel",
          "model_module_version": "1.5.0",
          "state": {
            "_model_module": "@jupyter-widgets/controls",
            "_model_module_version": "1.5.0",
            "_model_name": "DescriptionStyleModel",
            "_view_count": null,
            "_view_module": "@jupyter-widgets/base",
            "_view_module_version": "1.2.0",
            "_view_name": "StyleView",
            "description_width": ""
          }
        },
        "e3cb2d8a06e049fcb18c756a8590ec25": {
          "model_module": "@jupyter-widgets/base",
          "model_name": "LayoutModel",
          "model_module_version": "1.2.0",
          "state": {
            "_model_module": "@jupyter-widgets/base",
            "_model_module_version": "1.2.0",
            "_model_name": "LayoutModel",
            "_view_count": null,
            "_view_module": "@jupyter-widgets/base",
            "_view_module_version": "1.2.0",
            "_view_name": "LayoutView",
            "align_content": null,
            "align_items": null,
            "align_self": null,
            "border": null,
            "bottom": null,
            "display": null,
            "flex": null,
            "flex_flow": null,
            "grid_area": null,
            "grid_auto_columns": null,
            "grid_auto_flow": null,
            "grid_auto_rows": null,
            "grid_column": null,
            "grid_gap": null,
            "grid_row": null,
            "grid_template_areas": null,
            "grid_template_columns": null,
            "grid_template_rows": null,
            "height": null,
            "justify_content": null,
            "justify_items": null,
            "left": null,
            "margin": null,
            "max_height": null,
            "max_width": null,
            "min_height": null,
            "min_width": null,
            "object_fit": null,
            "object_position": null,
            "order": null,
            "overflow": null,
            "overflow_x": null,
            "overflow_y": null,
            "padding": null,
            "right": null,
            "top": null,
            "visibility": null,
            "width": null
          }
        },
        "a472c2ea9a654429bf84994595dbd53d": {
          "model_module": "@jupyter-widgets/controls",
          "model_name": "ProgressStyleModel",
          "model_module_version": "1.5.0",
          "state": {
            "_model_module": "@jupyter-widgets/controls",
            "_model_module_version": "1.5.0",
            "_model_name": "ProgressStyleModel",
            "_view_count": null,
            "_view_module": "@jupyter-widgets/base",
            "_view_module_version": "1.2.0",
            "_view_name": "StyleView",
            "bar_color": null,
            "description_width": ""
          }
        },
        "6e008c8fa5ea4d1383a9b529ffe077da": {
          "model_module": "@jupyter-widgets/base",
          "model_name": "LayoutModel",
          "model_module_version": "1.2.0",
          "state": {
            "_model_module": "@jupyter-widgets/base",
            "_model_module_version": "1.2.0",
            "_model_name": "LayoutModel",
            "_view_count": null,
            "_view_module": "@jupyter-widgets/base",
            "_view_module_version": "1.2.0",
            "_view_name": "LayoutView",
            "align_content": null,
            "align_items": null,
            "align_self": null,
            "border": null,
            "bottom": null,
            "display": null,
            "flex": null,
            "flex_flow": null,
            "grid_area": null,
            "grid_auto_columns": null,
            "grid_auto_flow": null,
            "grid_auto_rows": null,
            "grid_column": null,
            "grid_gap": null,
            "grid_row": null,
            "grid_template_areas": null,
            "grid_template_columns": null,
            "grid_template_rows": null,
            "height": null,
            "justify_content": null,
            "justify_items": null,
            "left": null,
            "margin": null,
            "max_height": null,
            "max_width": null,
            "min_height": null,
            "min_width": null,
            "object_fit": null,
            "object_position": null,
            "order": null,
            "overflow": null,
            "overflow_x": null,
            "overflow_y": null,
            "padding": null,
            "right": null,
            "top": null,
            "visibility": null,
            "width": null
          }
        },
        "d5098e539dfd4ad48a9a6c8d3bee8e12": {
          "model_module": "@jupyter-widgets/controls",
          "model_name": "DescriptionStyleModel",
          "model_module_version": "1.5.0",
          "state": {
            "_model_module": "@jupyter-widgets/controls",
            "_model_module_version": "1.5.0",
            "_model_name": "DescriptionStyleModel",
            "_view_count": null,
            "_view_module": "@jupyter-widgets/base",
            "_view_module_version": "1.2.0",
            "_view_name": "StyleView",
            "description_width": ""
          }
        }
      }
    }
  },
  "nbformat": 4,
  "nbformat_minor": 0
}